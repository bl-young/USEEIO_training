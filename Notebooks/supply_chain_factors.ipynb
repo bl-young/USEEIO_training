{
  "nbformat": 4,
  "nbformat_minor": 0,
  "metadata": {
    "colab": {
      "provenance": [],
      "authorship_tag": "ABX9TyPxgGeu82zVQ4lg6H3MfF7Q",
      "include_colab_link": true
    },
    "kernelspec": {
      "name": "ir",
      "display_name": "R"
    },
    "language_info": {
      "name": "R"
    }
  },
  "cells": [
    {
      "cell_type": "markdown",
      "metadata": {
        "id": "view-in-github",
        "colab_type": "text"
      },
      "source": [
        "<a href=\"https://colab.research.google.com/github/bl-young/USEEIO_training/blob/main/Notebooks/supply_chain_factors.ipynb\" target=\"_parent\"><img src=\"https://colab.research.google.com/assets/colab-badge.svg\" alt=\"Open In Colab\"/></a>"
      ]
    },
    {
      "cell_type": "markdown",
      "source": [
        "# Using the Supply Chain Factors\n",
        "The [Supply Chain Factors](https://github.com/USEPA/supply-chain-factors) are generated from a public github repository using code in R. This repository includes the script and data necessary to generate the latest version of EPA's [Supply Chain GHG Emission Factors](https://cfpub.epa.gov/si/si_public_record_Report.cfm?dirEntryId=349324&Lab=CESER)."
      ],
      "metadata": {
        "id": "77mcrbHJGGfd"
      }
    },
    {
      "cell_type": "markdown",
      "source": [
        "*Note: Select Runtime -> Change runtime type --> Change \"Python 3\" to \"R\"*"
      ],
      "metadata": {
        "id": "roeEDOAtGxhO"
      }
    },
    {
      "cell_type": "code",
      "execution_count": 1,
      "metadata": {
        "id": "FAUa3nSR9Ja7"
      },
      "outputs": [],
      "source": [
        "# Clones the repository into your local colab environment\n",
        "system(\"git clone https://github.com/USEPA/supply-chain-factors.git\")"
      ]
    },
    {
      "cell_type": "code",
      "source": [
        "# Install required supporting packages for generating supply chain factors\n",
        "install.packages(c(\"rmarkdown\", \"configr\", \"here\", \"kableExtra\"))"
      ],
      "metadata": {
        "id": "yLmpn0sR_U-V"
      },
      "execution_count": null,
      "outputs": []
    },
    {
      "cell_type": "code",
      "source": [
        "# Set the working directory to the repository\n",
        "setwd(\"supply-chain-factors\")\n",
        "# TEMP: change to naics_file branch due to difficulty downloading the NAICS file\n",
        "system(\"git switch naics_file\")"
      ],
      "metadata": {
        "id": "jPX_uPHb_X5w"
      },
      "execution_count": 3,
      "outputs": []
    },
    {
      "cell_type": "markdown",
      "source": [
        "## Generating Supply Chain Factors\n",
        "The repository contains a script, [CalculateEmissionFactors.Rmd](https://github.com/USEPA/supply-chain-factors/blob/main/CalculateEmissionFactors.Rmd), that contains the code for building a USEEIO model and the additional steps required to generate the Supply Chain Factors output.\n",
        "\n",
        "_Note: running this in colab can take 5-8 minutes_\n",
        "\n",
        "Two new csv files will be created \"SupplyChainGHGEmissionFactors...\""
      ],
      "metadata": {
        "id": "ChMROJ5tHEwm"
      }
    },
    {
      "cell_type": "code",
      "source": [
        "rmarkdown::render(\"CalculateEmissionFactors.Rmd\", run_pandoc=FALSE)"
      ],
      "metadata": {
        "id": "eeHQT61b_chG",
        "collapsed": true
      },
      "execution_count": null,
      "outputs": []
    },
    {
      "cell_type": "markdown",
      "source": [
        "## Customization\n",
        "Alternate models can be used to generate supply chain factors. Add a new, or modify the existing, model specs within the `model-specs` folder, and adjust the name of the model in line 23, if needed.\n",
        "\n",
        "_Note: At this time characterized supply chain factors are only available for GHGs without additional modifications to the code_\n",
        "\n"
      ],
      "metadata": {
        "id": "3JopXEZZBIEJ"
      }
    },
    {
      "cell_type": "markdown",
      "source": [
        "## Challenge Questions\n",
        "1. Develop a set of supply chain factors based on an industry model.\n",
        "2. Create a time series of supply chain factors based on GHG data from 2019-2022.\n",
        "3. Adjust the factors to use a AR6-20yr Characterization Factors from IPCC.\n",
        "\n",
        "<!---\n",
        "## Advanced Challenge\n",
        "4. Develop a set of supply chain factors that includes water resource use. -->\n",
        "\n",
        "_HINT: To review existing model specs or avaialble data, explore the models available in useeior [here](https://github.com/USEPA/useeior/tree/master/inst/extdata/modelspecs) or the data availale in EPA's Data Commons in [Flowsa/FlowBySector](https://dmap-data-commons-ord.s3.amazonaws.com/index.html?prefix=#flowsa/FlowBySector/)_"
      ],
      "metadata": {
        "id": "SoGQHugmEc9w"
      }
    }
  ]
}