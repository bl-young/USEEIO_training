{
  "nbformat": 4,
  "nbformat_minor": 0,
  "metadata": {
    "colab": {
      "provenance": [],
      "authorship_tag": "ABX9TyPtpTthsz0K3+fa9XX381Lw",
      "include_colab_link": true
    },
    "kernelspec": {
      "name": "ir",
      "display_name": "R"
    },
    "language_info": {
      "name": "R"
    }
  },
  "cells": [
    {
      "cell_type": "markdown",
      "metadata": {
        "id": "view-in-github",
        "colab_type": "text"
      },
      "source": [
        "<a href=\"https://colab.research.google.com/github/bl-young/USEEIO_training/blob/main/Notebooks/supply_chain_factors.ipynb\" target=\"_parent\"><img src=\"https://colab.research.google.com/assets/colab-badge.svg\" alt=\"Open In Colab\"/></a>"
      ]
    },
    {
      "cell_type": "markdown",
      "source": [
        "# Using the Supply Chain Factors\n",
        "The [Supply Chain Factors](https://github.com/USEPA/supply-chain-factors) are generated from a public github repository using code in R. This repository includes the script and data necessary to generate the latest version of EPA's [Supply Chain GHG Emission Factors](https://cfpub.epa.gov/si/si_public_record_Report.cfm?dirEntryId=349324&Lab=CESER)."
      ],
      "metadata": {
        "id": "77mcrbHJGGfd"
      }
    },
    {
      "cell_type": "markdown",
      "source": [
        "*Note: Select Runtime -> Change runtime type --> Change \"Python 3\" to \"R\"*"
      ],
      "metadata": {
        "id": "roeEDOAtGxhO"
      }
    },
    {
      "cell_type": "code",
      "execution_count": 1,
      "metadata": {
        "id": "FAUa3nSR9Ja7"
      },
      "outputs": [],
      "source": [
        "# Clones the repository into your local colab environment\n",
        "system(\"git clone https://github.com/USEPA/supply-chain-factors.git\")"
      ]
    },
    {
      "cell_type": "code",
      "source": [
        "# Install required supporting packages for generating supply chain factors\n",
        "install.packages(c(\"rmarkdown\", \"configr\", \"here\", \"kableExtra\"))"
      ],
      "metadata": {
        "id": "yLmpn0sR_U-V"
      },
      "execution_count": null,
      "outputs": []
    },
    {
      "cell_type": "code",
      "source": [
        "# Set the working directory to the repository\n",
        "setwd(\"supply-chain-factors\")\n",
        "# TEMP: change to naics_file branch\n",
        "system(\"git switch naics_file\")"
      ],
      "metadata": {
        "id": "jPX_uPHb_X5w"
      },
      "execution_count": 2,
      "outputs": []
    },
    {
      "cell_type": "markdown",
      "source": [
        "## Generating Supply Chain Factors\n",
        "The repository contains a script, [CalculateEmissionFactors.Rmd](https://github.com/USEPA/supply-chain-factors/blob/main/CalculateEmissionFactors.Rmd), that contains the code for building a USEEIO model and the additional steps required to generate the Supply Chain Factors output.\n",
        "\n",
        "_Note: running this in colab can take 5-8 minutes,_"
      ],
      "metadata": {
        "id": "ChMROJ5tHEwm"
      }
    },
    {
      "cell_type": "code",
      "source": [
        "rmarkdown::render(\"CalculateEmissionFactors.Rmd\", run_pandoc=FALSE)"
      ],
      "metadata": {
        "id": "eeHQT61b_chG",
        "collapsed": true
      },
      "execution_count": null,
      "outputs": []
    }
  ]
}