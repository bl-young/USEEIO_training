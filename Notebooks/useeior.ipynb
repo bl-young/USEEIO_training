{
  "nbformat": 4,
  "nbformat_minor": 0,
  "metadata": {
    "colab": {
      "provenance": [],
      "authorship_tag": "ABX9TyP0qEQBzG6yRXUiOStrllVI",
      "include_colab_link": true
    },
    "kernelspec": {
      "name": "ir",
      "display_name": "R"
    },
    "language_info": {
      "name": "R"
    }
  },
  "cells": [
    {
      "cell_type": "markdown",
      "metadata": {
        "id": "view-in-github",
        "colab_type": "text"
      },
      "source": [
        "<a href=\"https://colab.research.google.com/github/bl-young/USEEIO_training/blob/main/Notebooks/useeior.ipynb\" target=\"_parent\"><img src=\"https://colab.research.google.com/assets/colab-badge.svg\" alt=\"Open In Colab\"/></a>"
      ]
    },
    {
      "cell_type": "markdown",
      "source": [
        "# useeior\n",
        "\n",
        "`useeior` is an R package for building and using [USEEIO models](https://www.epa.gov/land-research/us-environmentally-extended-input-output-useeio-models).\n",
        "\n",
        "The [model object](format_specs/Model.md) is the primary output that is built according to a given [model specification](format_specs/ModelSpecification.md) and optional hybridization specification, e.g. [disaggregation](format_specs/ModelCustomization.md).\n",
        "[Model specifications](inst/extdata/modelspecs) and associated hybridization specifications, e.g. [disaggregation](inst/extdata/disaggspecs), for EPA-validated models are included in the package.\n",
        "\n",
        "`useeior` offers various functions for validating, calculating, visualizing, and writing out models and/or their components.\n",
        "`useeior` is a core component of the [USEEIO Modeling Framework](https://github.com/USEPA/useeio) and is in a stable development state.\n",
        "Users intending to use the package for production purposes and applications should use [Releases](https://github.com/USEPA/useeior/releases).\n",
        "`useeior` v1.0.0 was peer-reviewed internally at USEPA and published at Zenodo."
      ],
      "metadata": {
        "id": "UMvv7qVRELRs"
      }
    },
    {
      "cell_type": "markdown",
      "source": [
        "## Installing useeior and building a model"
      ],
      "metadata": {
        "id": "7LBFykglebU9"
      }
    },
    {
      "cell_type": "code",
      "source": [
        "# Clones the repository into your local colab environment\n",
        "system(\"git clone https://github.com/USEPA/useeior.git\")"
      ],
      "metadata": {
        "id": "LF7XBftiYxjL"
      },
      "execution_count": 1,
      "outputs": []
    },
    {
      "cell_type": "code",
      "source": [
        "# Install the package using devtools, this will take 5-6 minutes\n",
        "install.packages(\"devtools\")\n",
        "devtools::install(\"useeior/.\")\n",
        "# Because we want access to the repository in Google Colab we are installing it locally.\n",
        "# Otherwise you could use:\n",
        "# devtools::install_github(\"USEPA/useeior\")\n",
        "library(\"useeior\")"
      ],
      "metadata": {
        "id": "NHnHplstFAN9"
      },
      "execution_count": null,
      "outputs": []
    },
    {
      "cell_type": "code",
      "source": [
        "seeAvailableModels()"
      ],
      "metadata": {
        "id": "r_ZUgqT0bCjq"
      },
      "execution_count": null,
      "outputs": []
    },
    {
      "cell_type": "code",
      "source": [
        "model <- buildModel(\"USEEIOv2.3-GHG\")"
      ],
      "metadata": {
        "id": "A0VVwf3ObPyL"
      },
      "execution_count": null,
      "outputs": []
    },
    {
      "cell_type": "markdown",
      "source": [
        "## Calculate Results\n",
        "USEEIO models can be used to calculate national results based on a few parameters:\n",
        "- Perspective: Can be `DIRECT` or `FINAL` and indicates where the emissions are attributed. In `DIRECT` they are aligned with the sectors that generate the emissions, in `FINAL` they are aligned with the sectors that are being consumed.\n",
        "- Demand: Can be `Consumption` or `Production`. `Consumption` demand vectors represent total U.S. Final Consumption from households and investment, while `Production` represents total US output whether or not its consumed in the U.S. Alternatively, you can pass a custom demand vector in the form of a named vector.\n",
        "\n",
        "The [result object](https://github.com/USEPA/useeior/blob/master/format_specs/Calculation.md) has two parts:\n",
        "- \"G\": Direct and indirect LCI\n",
        "- \"H\": Direct and indirect LCIA (optional)"
      ],
      "metadata": {
        "id": "qM9RyfUZKdUn"
      }
    },
    {
      "cell_type": "code",
      "source": [
        "result <- calculateEEIOModel(model,\n",
        "                             perspective = \"DIRECT\",\n",
        "                             demand = \"Consumption\",\n",
        "                             use_domestic_requirements = FALSE)\n",
        "print(result$H_r)"
      ],
      "metadata": {
        "id": "O4tOSFPvbYVs"
      },
      "execution_count": null,
      "outputs": []
    },
    {
      "cell_type": "code",
      "source": [
        "names(model)\n",
        "write.csv(model$Commodities, 'commodities.csv')\n",
        "writeModeltoXLSX(model, \".\")"
      ],
      "metadata": {
        "id": "nl6YznCocFS0"
      },
      "execution_count": null,
      "outputs": []
    },
    {
      "cell_type": "code",
      "source": [
        "model$Indicators$meta$Name\n",
        "sector <- \"325211/US\"\n",
        "model$Commodities[model$Commodities$Code_Loc == sector,]\n",
        "contrib <- useeior:::calculateSectorContributiontoImpact(model, sector, \"Greenhouse Gases\")\n",
        "contrib$contribution <- scales::percent(contrib$contribution, accuracy = 0.1)\n",
        "head(subset(contrib, select=\"contribution\"), 5)"
      ],
      "metadata": {
        "id": "9IkOFA4jgKfJ"
      },
      "execution_count": null,
      "outputs": []
    },
    {
      "cell_type": "markdown",
      "source": [
        "## Customizing Models\n",
        "Download a model spec from useeior/inst/extdata/modelspecs.\n",
        "Edit and manipulate it and save it as a new file, e.g., `My-model.yml`.\n",
        "Upload to Colab to a `my_models` folder at the same level as the working directory."
      ],
      "metadata": {
        "id": "mLL9Qha-EcqD"
      }
    },
    {
      "cell_type": "code",
      "source": [
        "# Use configpaths to point to a model in a different directory\n",
        "model <- buildModel(\"My-model\", configpaths = \"my_models/My-model.yml\")\n"
      ],
      "metadata": {
        "id": "wJiSNlRtLlqZ"
      },
      "execution_count": null,
      "outputs": []
    }
  ]
}